{
 "cells": [
  {
   "cell_type": "code",
   "execution_count": 107,
   "id": "4fbd7e32",
   "metadata": {},
   "outputs": [],
   "source": [
    "import pandas as pd\n",
    "import numpy as np\n",
    "import matplotlib.pyplot as plt\n",
    "import seaborn as sns"
   ]
  },
  {
   "cell_type": "code",
   "execution_count": 108,
   "id": "453ad938",
   "metadata": {},
   "outputs": [],
   "source": [
    "database = pd.read_csv(\"trips_data.csv\")"
   ]
  },
  {
   "cell_type": "code",
   "execution_count": 109,
   "id": "9aa04656",
   "metadata": {},
   "outputs": [],
   "source": [
    "df = database.dropna(subset = [\"Product Type\"])"
   ]
  },
  {
   "cell_type": "code",
   "execution_count": 110,
   "id": "8b4bb279",
   "metadata": {},
   "outputs": [
    {
     "name": "stdout",
     "output_type": "stream",
     "text": [
      "(206, 15)\n",
      "(202, 15)\n",
      "Index(['City', 'Product Type', 'Trip or Order Status', 'Request Time',\n",
      "       'Begin Trip Time', 'Begin Trip Lat', 'Begin Trip Lng',\n",
      "       'Begin Trip Address', 'Dropoff Time', 'Dropoff Lat', 'Dropoff Lng',\n",
      "       'Dropoff Address', 'Distance (miles)', 'Fare Amount', 'Fare Currency'],\n",
      "      dtype='object')\n"
     ]
    }
   ],
   "source": [
    "print(database.shape)\n",
    "print(df.shape)\n",
    "print(df.columns)\n",
    "\n",
    "\n",
    "#Estamos quitando los Valorees $ 0 en Fare Amount columna\n",
    "df = df[df['Fare Amount'] != 0]"
   ]
  },
  {
   "cell_type": "code",
   "execution_count": 111,
   "id": "f0287d8e",
   "metadata": {
    "scrolled": false
   },
   "outputs": [
    {
     "name": "stdout",
     "output_type": "stream",
     "text": [
      "$ 205443.63999999998\n",
      "-----\n",
      "Tipos de divisa: ['MXN' 'USD' 'COP']\n"
     ]
    }
   ],
   "source": [
    "#Nos da mucho la cantidad de $ porque no hemos convertido la COP -> MXN, USD -> MXN\n",
    "total_fare = df[\"Fare Amount\"].sum()\n",
    "print(\"$\", total_fare)\n",
    "print(\"-----\")\n",
    "\n",
    "fare_currency = \"Fare Currency\"\n",
    "unique_value_currency = df[fare_currency].unique()\n",
    "print(\"Tipos de divisa:\", unique_value_currency)"
   ]
  },
  {
   "cell_type": "code",
   "execution_count": 112,
   "id": "c72afb01",
   "metadata": {
    "scrolled": true
   },
   "outputs": [
    {
     "name": "stdout",
     "output_type": "stream",
     "text": [
      "Money$: 50.0, Currency: MXN\n",
      "Money$: 199.92, Currency: MXN\n",
      "Money$: 104.7, Currency: MXN\n",
      "Money$: 69.92, Currency: MXN\n",
      "Money$: 69.93, Currency: MXN\n",
      "Money$: 49.95, Currency: MXN\n",
      "Money$: 129.96, Currency: MXN\n",
      "Money$: 99.96, Currency: MXN\n",
      "Money$: 99.97, Currency: MXN\n",
      "Money$: 272.0, Currency: MXN\n",
      "Money$: 49.9, Currency: MXN\n",
      "Money$: 22.0, Currency: MXN\n",
      "Money$: 50.06, Currency: MXN\n",
      "Money$: 89.94, Currency: MXN\n",
      "Money$: 133.93, Currency: MXN\n",
      "Money$: 89.98, Currency: MXN\n",
      "Money$: 99.93, Currency: MXN\n",
      "Money$: 89.95, Currency: MXN\n",
      "Money$: 79.97, Currency: MXN\n",
      "Money$: 49.9, Currency: MXN\n",
      "Money$: 73.32, Currency: MXN\n",
      "Money$: 39.96, Currency: MXN\n",
      "Money$: 89.97, Currency: MXN\n",
      "Money$: 49.94, Currency: MXN\n",
      "Money$: 79.95, Currency: MXN\n",
      "Money$: 81.51, Currency: MXN\n",
      "Money$: 89.94, Currency: MXN\n",
      "Money$: 59.94, Currency: MXN\n",
      "Money$: 423.46, Currency: MXN\n",
      "Money$: 299.93, Currency: MXN\n",
      "Money$: 179.96, Currency: MXN\n",
      "Money$: 179.92, Currency: MXN\n",
      "Money$: 189.9, Currency: MXN\n",
      "Money$: 501.51, Currency: MXN\n",
      "Money$: 358.76, Currency: MXN\n",
      "Money$: 59.99, Currency: MXN\n",
      "Money$: 80.35, Currency: MXN\n",
      "Money$: 69.91, Currency: MXN\n",
      "Money$: 69.97, Currency: MXN\n",
      "Money$: 79.95, Currency: MXN\n",
      "Money$: 100.09, Currency: MXN\n",
      "Money$: 71.27, Currency: MXN\n",
      "Money$: 79.93, Currency: MXN\n",
      "Money$: 97.33, Currency: MXN\n",
      "Money$: 76.79, Currency: MXN\n",
      "Money$: 39.91, Currency: MXN\n",
      "Money$: 59.99, Currency: MXN\n",
      "Money$: 73.93, Currency: MXN\n",
      "Money$: 79.9, Currency: MXN\n",
      "Money$: 59.94, Currency: MXN\n",
      "Money$: 69.99, Currency: MXN\n",
      "Money$: 49.98, Currency: MXN\n",
      "Money$: 229.97, Currency: MXN\n",
      "Money$: 89.97, Currency: MXN\n",
      "Money$: 23.68, Currency: MXN\n",
      "Money$: 69.99, Currency: MXN\n",
      "Money$: 23.31, Currency: MXN\n",
      "Money$: 149.99, Currency: MXN\n",
      "Money$: 14.82, Currency: USD\n",
      "Money$: 23.95, Currency: USD\n",
      "Money$: 69.94, Currency: MXN\n",
      "Money$: 69.92, Currency: MXN\n",
      "Money$: 256.4, Currency: MXN\n",
      "Money$: 99.92, Currency: MXN\n",
      "Money$: 79.98, Currency: MXN\n",
      "Money$: 49.91, Currency: MXN\n",
      "Money$: 99.91, Currency: MXN\n",
      "Money$: 99.94, Currency: MXN\n",
      "Money$: 20.0, Currency: MXN\n",
      "Money$: 139.9, Currency: MXN\n",
      "Money$: 193.34, Currency: MXN\n",
      "Money$: 410.49, Currency: MXN\n",
      "Money$: 69.9, Currency: MXN\n",
      "Money$: 69.92, Currency: MXN\n",
      "Money$: 209.15, Currency: MXN\n",
      "Money$: 34700.0, Currency: COP\n",
      "Money$: 13100.0, Currency: COP\n",
      "Money$: 25300.0, Currency: COP\n",
      "Money$: 14300.0, Currency: COP\n",
      "Money$: 9500.0, Currency: COP\n",
      "Money$: 10900.0, Currency: COP\n",
      "Money$: 11400.0, Currency: COP\n",
      "Money$: 9300.0, Currency: COP\n",
      "Money$: 11300.0, Currency: COP\n",
      "Money$: 16600.0, Currency: COP\n",
      "Money$: 11600.0, Currency: COP\n",
      "Money$: 24600.0, Currency: COP\n",
      "Money$: 79.8, Currency: MXN\n",
      "Money$: 44.91, Currency: MXN\n",
      "Money$: 129.91, Currency: MXN\n",
      "Money$: 69.83, Currency: MXN\n",
      "Money$: 69.99, Currency: MXN\n",
      "Money$: 74.19, Currency: MXN\n",
      "Money$: 60.9, Currency: MXN\n",
      "Money$: 49.98, Currency: MXN\n",
      "Money$: 31.94, Currency: MXN\n",
      "Money$: 76.41, Currency: MXN\n",
      "Money$: 138.68, Currency: MXN\n",
      "Money$: 59.07, Currency: MXN\n",
      "Money$: 62.83, Currency: MXN\n",
      "Money$: 71.95, Currency: MXN\n",
      "Money$: 51.18, Currency: MXN\n",
      "Money$: 10.0, Currency: MXN\n",
      "Money$: 56.82, Currency: MXN\n",
      "Money$: 55.44, Currency: MXN\n",
      "Money$: 51.39, Currency: MXN\n",
      "Money$: 54.79, Currency: MXN\n",
      "Money$: 54.95, Currency: MXN\n",
      "Money$: 45.04, Currency: MXN\n",
      "Money$: 47.82, Currency: MXN\n",
      "Money$: 45.61, Currency: MXN\n",
      "Money$: 57.3, Currency: MXN\n",
      "Money$: 56.99, Currency: MXN\n",
      "Money$: 57.0, Currency: MXN\n",
      "Money$: 55.36, Currency: MXN\n",
      "Money$: 43.28, Currency: MXN\n",
      "Money$: 57.7, Currency: MXN\n",
      "Money$: 59.22, Currency: MXN\n",
      "Money$: 44.37, Currency: MXN\n",
      "Money$: 59.02, Currency: MXN\n",
      "Money$: 56.19, Currency: MXN\n",
      "Money$: 55.98, Currency: MXN\n",
      "Money$: 57.31, Currency: MXN\n",
      "Money$: 32.7, Currency: MXN\n",
      "Money$: 37.36, Currency: MXN\n",
      "Money$: 42.12, Currency: MXN\n",
      "Money$: 57.53, Currency: MXN\n",
      "Money$: 51.35, Currency: MXN\n",
      "Money$: 27.75, Currency: MXN\n",
      "Money$: 57.49, Currency: MXN\n",
      "Money$: 60.31, Currency: MXN\n",
      "Money$: 57.34, Currency: MXN\n",
      "Money$: 44.17, Currency: MXN\n",
      "Money$: 56.19, Currency: MXN\n",
      "Money$: 58.35, Currency: MXN\n",
      "Money$: 58.5, Currency: MXN\n",
      "Money$: 42.44, Currency: MXN\n",
      "Money$: 56.63, Currency: MXN\n",
      "Money$: 64.25, Currency: MXN\n",
      "Money$: 57.31, Currency: MXN\n",
      "Money$: 63.98, Currency: MXN\n",
      "Money$: 61.18, Currency: MXN\n",
      "Money$: 63.73, Currency: MXN\n",
      "Money$: 71.86, Currency: MXN\n",
      "Money$: 59.31, Currency: MXN\n",
      "Money$: 91.76, Currency: MXN\n",
      "Money$: 60.21, Currency: MXN\n",
      "Money$: 54.95, Currency: MXN\n",
      "Money$: 52.43, Currency: MXN\n",
      "Money$: 60.81, Currency: MXN\n",
      "Money$: 52.63, Currency: MXN\n",
      "Money$: 74.21, Currency: MXN\n",
      "Money$: 45.75, Currency: MXN\n",
      "Money$: 36.86, Currency: MXN\n",
      "Money$: 80.11, Currency: MXN\n",
      "Money$: 53.96, Currency: MXN\n",
      "Money$: 51.4, Currency: MXN\n",
      "Money$: 47.22, Currency: MXN\n",
      "Money$: 27.75, Currency: MXN\n",
      "Money$: 65.65, Currency: MXN\n",
      "Money$: 61.15, Currency: MXN\n",
      "Money$: 58.28, Currency: MXN\n",
      "Money$: 74.19, Currency: MXN\n",
      "Money$: 48.21, Currency: MXN\n",
      "Money$: 27.75, Currency: MXN\n"
     ]
    }
   ],
   "source": [
    "money = df[\"Fare Amount\"]\n",
    "currency = df[\"Fare Currency\"]\n",
    "\n",
    "\n",
    "for valor1, valor2 in zip(money, currency):\n",
    "    print(f'Money$: {valor1}, Currency: {valor2}')"
   ]
  },
  {
   "cell_type": "code",
   "execution_count": 113,
   "id": "b4683714",
   "metadata": {
    "scrolled": false
   },
   "outputs": [
    {
     "name": "stdout",
     "output_type": "stream",
     "text": [
      "(2, 15)\n",
      "      City Product Type Trip or Order Status                   Request Time  \\\n",
      "73  Denver        UberX            COMPLETED  2023-03-04 22:53:29 +0000 UTC   \n",
      "74  Denver        UberX            COMPLETED  2023-03-02 14:35:09 +0000 UTC   \n",
      "\n",
      "                  Begin Trip Time  Begin Trip Lat  Begin Trip Lng  \\\n",
      "73  2023-03-04 22:58:32 +0000 UTC        39.76632      -104.97306   \n",
      "74  2023-03-02 14:41:06 +0000 UTC        39.79503      -104.91350   \n",
      "\n",
      "                                  Begin Trip Address  \\\n",
      "73           3550 N Downing St, Denver, CO 80205, US   \n",
      "74  5401 Monaco St, Commerce City, CO 80022-4315, US   \n",
      "\n",
      "                     Dropoff Time  Dropoff Lat  Dropoff Lng  \\\n",
      "73  2023-03-04 23:04:24 +0000 UTC     39.78014   -104.96994   \n",
      "74  2023-03-02 14:51:07 +0000 UTC     39.78058   -104.96976   \n",
      "\n",
      "                           Dropoff Address  Distance (miles)  Fare Amount  \\\n",
      "73  4655 Humboldt St, Denver, CO 80216, US              1.25        14.82   \n",
      "74  4655 Humboldt St, Denver, CO 80216, US              4.11        23.95   \n",
      "\n",
      "   Fare Currency  \n",
      "73           USD  \n",
      "74           USD  \n"
     ]
    }
   ],
   "source": [
    "# Con solo cambiar el \"Valor\" USD podemos explorar por MXN & COP\n",
    "divise = \"USD\"\n",
    "\n",
    "df_divise = df[df[\"Fare Currency\"] == divise]\n",
    "\n",
    "print(df_divise.shape)\n",
    "\n",
    "print(df_divise)"
   ]
  },
  {
   "cell_type": "code",
   "execution_count": 114,
   "id": "21196dda",
   "metadata": {},
   "outputs": [],
   "source": [
    "#tipos de cambio\n",
    "mxn_udd = 20\n",
    "mxn_cop = 240\n",
    "\n",
    "# Filtra las filas en las que la columna \"Fare Currency\" es igual a 'USD o COP'\n",
    "filas_usd = df['Fare Currency'] == 'USD'\n",
    "filas_cop = df['Fare Currency'] == 'COP'\n",
    "\n",
    "# Aplica la conversión a las filas correspondientes\n",
    "df.loc[filas_usd, 'Fare Amount'] *= mxn_udd\n",
    "df.loc[filas_cop, 'Fare Amount'] /= mxn_cop"
   ]
  },
  {
   "cell_type": "code",
   "execution_count": 115,
   "id": "9da5310c",
   "metadata": {},
   "outputs": [
    {
     "name": "stdout",
     "output_type": "stream",
     "text": [
      "$ 14382.769999999999\n"
     ]
    }
   ],
   "source": [
    "# here for clear reason we are re-neaming the total_fare variable\n",
    "total_fare = df[\"Fare Amount\"].sum()\n",
    "print(\"$\", total_fare)"
   ]
  },
  {
   "cell_type": "code",
   "execution_count": 188,
   "id": "4d26aa7b",
   "metadata": {
    "scrolled": false
   },
   "outputs": [
    {
     "data": {
      "image/png": "[encoded data removed]",
      "text/plain": [
       "<Figure size 640x480 with 2 Axes>"
      ]
     },
     "metadata": {},
     "output_type": "display_data"
    }
   ],
   "source": [
    "# Crear una figura y ejes principales\n",
    "fig, ax1 = plt.subplots()\n",
    "\n",
    "# Gráfica de la columna \"Fare Amount\" con la escala izquierda (dinero en pesos)\n",
    "ax1.plot(df.index, df['Fare Amount'], 'b', label='Fare Amount')\n",
    "ax1.set_xlabel('-')\n",
    "ax1.set_ylabel('Fare Amount (MXN)', color='b')\n",
    "ax1.tick_params('y', colors='b')\n",
    "\n",
    "# Crear ejes secundarios para la columna de millas\n",
    "ax2 = ax1.twinx()\n",
    "ax2.plot(df.index, df['Distance (miles)'], 'r', label='Distance (miles)')\n",
    "ax2.set_ylabel('Distance (miles)', color='r')\n",
    "ax2.tick_params('y', colors='r')\n",
    "\n",
    "# Título de la gráfica\n",
    "plt.title('Fare Amount / Distance')\n",
    "\n",
    "# Muestra la gráfica\n",
    "plt.show()"
   ]
  },
  {
   "cell_type": "code",
   "execution_count": null,
   "id": "90dbc89b",
   "metadata": {},
   "outputs": [],
   "source": [
    "# set the size of the graph\n"
   ]
  },
  {
   "cell_type": "code",
   "execution_count": null,
   "id": "a86f4b96",
   "metadata": {},
   "outputs": [],
   "source": [
    "# Define el tamaño de la figura\n",
    "plt.figure(figsize=(15, 10))\n",
    "\n",
    "# Crear un gráfico de dispersión para \"Fare Amount\" con un color azul y etiqueta \"Fare Amount\"\n",
    "plt.scatter(df[\"Fare Amount\"], df[\"Distance (miles)\"], c='b', alpha=0.5, label=\"Fare Amount\")\n",
    "\n",
    "# Crear un segundo gráfico de dispersión para \"Distance (miles)\" con un color rojo y etiqueta \"Distance (miles)\"\n",
    "plt.scatter(df[\"Fare Amount\"], df[\"Distance (miles)\"], c='r', alpha=0.5, label=\"Distance (miles)\")\n",
    "\n",
    "# Etiquetas de los ejes\n",
    "plt.xlabel(\"Mexican pesos\")\n",
    "plt.ylabel(\"Distance miles\")\n",
    "plt.title(\"Comparación de Fare Amount y Distance (miles)\")\n",
    "\n",
    "# Agregar una leyenda para identificar los puntos\n",
    "plt.legend()\n",
    "\n",
    "# Muestra el gráfico de dispersión\n",
    "plt.show()"
   ]
  },
  {
   "cell_type": "code",
   "execution_count": null,
   "id": "492d1d01",
   "metadata": {},
   "outputs": [],
   "source": [
    "\n"
   ]
  },
  {
   "cell_type": "code",
   "execution_count": null,
   "id": "56872ffb",
   "metadata": {
    "scrolled": false
   },
   "outputs": [],
   "source": [
    "\n"
   ]
  },
  {
   "cell_type": "code",
   "execution_count": null,
   "id": "4253d3fe",
   "metadata": {},
   "outputs": [],
   "source": []
  },
  {
   "cell_type": "code",
   "execution_count": null,
   "id": "2f9c15ee",
   "metadata": {
    "scrolled": false
   },
   "outputs": [],
   "source": []
  },
  {
   "cell_type": "code",
   "execution_count": null,
   "id": "43d1b325",
   "metadata": {},
   "outputs": [],
   "source": []
  }
 ],
 "metadata": {
  "kernelspec": {
   "display_name": "Python 3 (ipykernel)",
   "language": "python",
   "name": "python3"
  },
  "language_info": {
   "codemirror_mode": {
    "name": "ipython",
    "version": 3
   },
   "file_extension": ".py",
   "mimetype": "text/x-python",
   "name": "python",
   "nbconvert_exporter": "python",
   "pygments_lexer": "ipython3",
   "version": "3.11.4"
  }
 },
 "nbformat": 4,
 "nbformat_minor": 5
}
